{
  "nbformat": 4,
  "nbformat_minor": 0,
  "metadata": {
    "colab": {
      "provenance": [],
      "authorship_tag": "ABX9TyPkCqyVTc/pG/KJQTmFrotO",
      "include_colab_link": true
    },
    "kernelspec": {
      "name": "python3",
      "display_name": "Python 3"
    },
    "language_info": {
      "name": "python"
    }
  },
  "cells": [
    {
      "cell_type": "markdown",
      "metadata": {
        "id": "view-in-github",
        "colab_type": "text"
      },
      "source": [
        "<a href=\"https://colab.research.google.com/github/Qureshihasaan/Summarization_and_Database_Chatbot/blob/main/summarization_and_database_chatbot.ipynb\" target=\"_parent\"><img src=\"https://colab.research.google.com/assets/colab-badge.svg\" alt=\"Open In Colab\"/></a>"
      ]
    },
    {
      "cell_type": "code",
      "execution_count": 15,
      "metadata": {
        "id": "o2yg6IeU_HML"
      },
      "outputs": [],
      "source": [
        "%pip install -q -U psycopg psycopg-pool langgraph langgraph-checkpoint-postgres langchain_google_genai langsmith"
      ]
    },
    {
      "cell_type": "code",
      "source": [
        "from google.colab import userdata\n",
        "\n",
        "gemini_api_key = userdata.get(\"GEMINI_API_KEY\")"
      ],
      "metadata": {
        "id": "1YjdlGuP_rY0"
      },
      "execution_count": 16,
      "outputs": []
    },
    {
      "cell_type": "code",
      "source": [
        "import os\n",
        "\n",
        "os.environ[\"LANGCHAIN_API_KEY\"] = userdata.get(\"langsmith_api_key\")\n",
        "os.environ[\"LANGCHAIN_TRACING_V2\"] = \"true\"\n",
        "os.environ['LANGCHAIN_PROJECT'] = \"Postgress_db_chatbot\""
      ],
      "metadata": {
        "id": "QQUgy3lD_9JG"
      },
      "execution_count": 17,
      "outputs": []
    },
    {
      "cell_type": "code",
      "source": [
        "print(gemini_api_key)\n"
      ],
      "metadata": {
        "id": "h6WQUz9VO3xe"
      },
      "execution_count": null,
      "outputs": []
    },
    {
      "cell_type": "code",
      "source": [
        "DB_URL = userdata.get(\"DATABASE_URL\")"
      ],
      "metadata": {
        "id": "NMNjZuG_CZUY"
      },
      "execution_count": 19,
      "outputs": []
    },
    {
      "cell_type": "code",
      "source": [
        "print(DB_URL)"
      ],
      "metadata": {
        "id": "b7KlA8tXChCs"
      },
      "execution_count": null,
      "outputs": []
    },
    {
      "cell_type": "code",
      "source": [
        "from psycopg_pool import ConnectionPool\n",
        "from langgraph.checkpoint.postgres import PostgresSaver\n",
        "\n",
        "connection_kwargs = {\"autocommit\": True, \"prepare_threshold\":0}\n",
        "\n",
        "pool = ConnectionPool(conninfo=DB_URL, max_size=20 , kwargs=connection_kwargs )\n",
        "\n",
        "checkpointer = PostgresSaver(pool)\n",
        "checkpointer.setup()"
      ],
      "metadata": {
        "id": "ga8vUNR2Cm3u"
      },
      "execution_count": 21,
      "outputs": []
    },
    {
      "cell_type": "code",
      "source": [
        "from langchain_google_genai import ChatGoogleGenerativeAI\n",
        "from langchain_core.messages import SystemMessage, HumanMessage, RemoveMessage\n",
        "\n",
        "from langgraph.graph import END\n",
        "from langgraph.graph import MessagesState\n",
        "\n",
        "llm: ChatGoogleGenerativeAI = ChatGoogleGenerativeAI(model = \"gemini-1.5-flash\", api_key =  gemini_api_key)\n",
        "\n",
        "class State(MessagesState):\n",
        "    summary: str\n",
        "\n",
        "# Define the logic to call the model\n",
        "def call_model(state: State) -> State:\n",
        "\n",
        "    # Get summary if it exists\n",
        "    summary = state.get(\"summary\", \"\")\n",
        "    print(f\"Using summary: {summary}\")\n",
        "\n",
        "    # If there is summary, then we add it\n",
        "    if summary:\n",
        "\n",
        "        # Add summary to system message\n",
        "        system_message = f\"Summary of conversation earlier: {summary}\"\n",
        "\n",
        "        # Append summary to any newer messages\n",
        "        messages = [SystemMessage(content=system_message)] + state[\"messages\"]\n",
        "\n",
        "    else:\n",
        "        messages = state[\"messages\"]\n",
        "\n",
        "    response = llm.invoke(messages)\n",
        "    return {\"messages\": response}\n",
        "\n",
        "def summarize_conversation(state: State) -> State:\n",
        "    print(f\"Messages before summarizing: {len(state['messages'])}\")\n",
        "    # First, we get any existing summary\n",
        "    summary = state.get(\"summary\", \"\")\n",
        "    print(f\"Existing summary: {summary}\")\n",
        "\n",
        "    # Create our summarization prompt\n",
        "    if summary:\n",
        "\n",
        "        # A summary already exists\n",
        "        summary_message = (\n",
        "            f\"This is summary of the conversation to date: {summary}\\n\\n\"\n",
        "            \"Extend the summary by taking into account the new messages above:\"\n",
        "        )\n",
        "\n",
        "    else:\n",
        "        summary_message = \"Create a summary of the conversation above:\"\n",
        "\n",
        "\n",
        "    # Add prompt to our history\n",
        "    messages = state[\"messages\"] + [HumanMessage(content=summary_message)]\n",
        "    response = llm.invoke(messages)\n",
        "    # Summarization logic\n",
        "    print(f\"New summary: {response.content}\")\n",
        "\n",
        "    # Delete all but the 2 most recent messages\n",
        "    delete_messages = [RemoveMessage(id=m.id) for m in state[\"messages\"][:-2]]\n",
        "\n",
        "    print(f\"Messages after truncation: {len(delete_messages)}\")\n",
        "    return {\"summary\": response.content, \"messages\": delete_messages}\n",
        "\n",
        "# Determine whether to end or summarize the conversation\n",
        "def should_continue(state: State) -> State:\n",
        "\n",
        "    \"\"\"Return the next node to execute.\"\"\"\n",
        "\n",
        "    messages = state[\"messages\"]\n",
        "    print(f\"Message count: {len(messages)}\")\n",
        "    # If there are more than six messages, then we summarize the conversation\n",
        "    if len(messages) > 6:\n",
        "        return \"summarize_conversation\"\n",
        "\n",
        "    # Otherwise we can just end\n",
        "    return END\n",
        ""
      ],
      "metadata": {
        "id": "pHsTnsBKAMdh"
      },
      "execution_count": 22,
      "outputs": []
    },
    {
      "cell_type": "code",
      "source": [
        "from langgraph.graph import StateGraph, START , END\n",
        "\n",
        "builder = StateGraph(State)\n",
        "\n",
        "builder.add_node(\"conversation\", call_model)\n",
        "builder.add_node(summarize_conversation)\n",
        "\n",
        "\n",
        "builder.add_edge(START , \"conversation\")\n",
        "builder.add_conditional_edges(\"conversation\", should_continue)\n",
        "builder.add_edge(\"summarize_conversation\", END)\n",
        "\n",
        "\n",
        "graph =  builder.compile(checkpointer=checkpointer)"
      ],
      "metadata": {
        "id": "uplEqUkLFeAA"
      },
      "execution_count": 23,
      "outputs": []
    },
    {
      "cell_type": "code",
      "source": [
        "config = {\"configurable\" : {\"thread_id\" : \"1\"}}\n",
        "\n",
        "\n",
        "input_message = HumanMessage(content=\"what's i like playing\")\n",
        "output = graph.invoke({\"messages\":input_message}, config)\n",
        "for m in output[\"messages\"][-1:]:\n",
        "  m.pretty_print()\n"
      ],
      "metadata": {
        "colab": {
          "base_uri": "https://localhost:8080/"
        },
        "id": "QWZU8UulFyq1",
        "outputId": "a5e34688-2e1e-48e0-aa1a-1ff284bc3a0e"
      },
      "execution_count": 24,
      "outputs": [
        {
          "output_type": "stream",
          "name": "stdout",
          "text": [
            "Using summary: The conversation began with the user asking for their name, to which I responded that I don't have access to personal information.  The user then stated they enjoy playing cricket.  Finally, the user asked for a summary of our conversation, which is this summary.\n",
            "Message count: 4\n",
            "==================================\u001b[1m Ai Message \u001b[0m==================================\n",
            "\n",
            "Based on our previous conversation, you mentioned that you like playing cricket.\n"
          ]
        }
      ]
    },
    {
      "cell_type": "code",
      "source": [
        "graph_state = graph.get_state(config)\n",
        "\n",
        "graph_state"
      ],
      "metadata": {
        "colab": {
          "base_uri": "https://localhost:8080/"
        },
        "id": "V_OephRPHmoj",
        "outputId": "8a618317-f021-4b4a-81a8-3604eba24dca"
      },
      "execution_count": 25,
      "outputs": [
        {
          "output_type": "execute_result",
          "data": {
            "text/plain": [
              "StateSnapshot(values={'messages': [HumanMessage(content=\"what's my last conversation\", additional_kwargs={}, response_metadata={}, id='608402df-0f66-448e-a634-dcffba46c18f'), AIMessage(content=\"Our last conversation was about your enjoyment of playing cricket.  Before that, you asked me what your name was, and I explained that I don't have access to that information.\", additional_kwargs={}, response_metadata={'prompt_feedback': {'block_reason': 0, 'safety_ratings': []}, 'finish_reason': 'STOP', 'safety_ratings': []}, id='run-34c4dbfc-d785-4dee-86a4-baf5f79ab9b4-0', usage_metadata={'input_tokens': 88, 'output_tokens': 38, 'total_tokens': 126, 'input_token_details': {'cache_read': 0}}), HumanMessage(content=\"what's i like playing\", additional_kwargs={}, response_metadata={}, id='45859edb-a832-422b-b03d-10618ecd3997'), AIMessage(content='Based on our previous conversation, you mentioned that you like playing cricket.', additional_kwargs={}, response_metadata={'prompt_feedback': {'block_reason': 0, 'safety_ratings': []}, 'finish_reason': 'STOP', 'safety_ratings': []}, id='run-3e76e5ff-71b9-4670-9706-714608144a68-0', usage_metadata={'input_tokens': 111, 'output_tokens': 15, 'total_tokens': 126, 'input_token_details': {'cache_read': 0}})], 'summary': \"The conversation began with the user asking for their name, to which I responded that I don't have access to personal information.  The user then stated they enjoy playing cricket.  Finally, the user asked for a summary of our conversation, which is this summary.\"}, next=(), config={'configurable': {'thread_id': '1', 'checkpoint_ns': '', 'checkpoint_id': '1efd01a9-bf3b-6c6b-800e-5d2e0d6c87aa'}}, metadata={'step': 14, 'source': 'loop', 'writes': {'conversation': {'messages': AIMessage(content='Based on our previous conversation, you mentioned that you like playing cricket.', additional_kwargs={}, response_metadata={'finish_reason': 'STOP', 'safety_ratings': [], 'prompt_feedback': {'block_reason': 0, 'safety_ratings': []}}, id='run-3e76e5ff-71b9-4670-9706-714608144a68-0', usage_metadata={'input_tokens': 111, 'output_tokens': 15, 'total_tokens': 126, 'input_token_details': {'cache_read': 0}})}}, 'parents': {}, 'thread_id': '1'}, created_at='2025-01-11T12:50:17.594350+00:00', parent_config={'configurable': {'thread_id': '1', 'checkpoint_ns': '', 'checkpoint_id': '1efd01a9-bc03-6a1b-800d-4eb6553cf795'}}, tasks=())"
            ]
          },
          "metadata": {},
          "execution_count": 25
        }
      ]
    },
    {
      "cell_type": "code",
      "source": [
        "config = {\"configurable\" : {\"thread_id\" : \"1\"}}\n",
        "\n",
        "\n",
        "input_message = HumanMessage(content=\"what's my last conversation\")\n",
        "output = graph.invoke({\"messages\":input_message}, config)\n",
        "for m in output[\"messages\"][-1:]:\n",
        "  m.pretty_print()"
      ],
      "metadata": {
        "colab": {
          "base_uri": "https://localhost:8080/"
        },
        "id": "RwJiVCfoOkmE",
        "outputId": "41958bbf-dbfb-4c22-ef7a-5d6e1762ff4e"
      },
      "execution_count": 26,
      "outputs": [
        {
          "output_type": "stream",
          "name": "stdout",
          "text": [
            "Using summary: The conversation began with the user asking for their name, to which I responded that I don't have access to personal information.  The user then stated they enjoy playing cricket.  Finally, the user asked for a summary of our conversation, which is this summary.\n",
            "Message count: 6\n",
            "==================================\u001b[1m Ai Message \u001b[0m==================================\n",
            "\n",
            "Our last conversation was short. You asked me what you like playing, and I responded that you mentioned liking cricket in our previous conversation.\n"
          ]
        }
      ]
    },
    {
      "cell_type": "code",
      "source": [
        "graph_state= graph.get_state(config)"
      ],
      "metadata": {
        "id": "6qOj7tOCRacN"
      },
      "execution_count": 28,
      "outputs": []
    },
    {
      "cell_type": "code",
      "source": [
        "graph_state"
      ],
      "metadata": {
        "colab": {
          "base_uri": "https://localhost:8080/"
        },
        "id": "GB0iHwlET8qd",
        "outputId": "2fd99fd4-ea59-43b1-fb90-8d9e1cb77f07"
      },
      "execution_count": 29,
      "outputs": [
        {
          "output_type": "execute_result",
          "data": {
            "text/plain": [
              "StateSnapshot(values={'messages': [HumanMessage(content=\"what's my last conversation\", additional_kwargs={}, response_metadata={}, id='608402df-0f66-448e-a634-dcffba46c18f'), AIMessage(content=\"Our last conversation was about your enjoyment of playing cricket.  Before that, you asked me what your name was, and I explained that I don't have access to that information.\", additional_kwargs={}, response_metadata={'prompt_feedback': {'block_reason': 0, 'safety_ratings': []}, 'finish_reason': 'STOP', 'safety_ratings': []}, id='run-34c4dbfc-d785-4dee-86a4-baf5f79ab9b4-0', usage_metadata={'input_tokens': 88, 'output_tokens': 38, 'total_tokens': 126, 'input_token_details': {'cache_read': 0}}), HumanMessage(content=\"what's i like playing\", additional_kwargs={}, response_metadata={}, id='45859edb-a832-422b-b03d-10618ecd3997'), AIMessage(content='Based on our previous conversation, you mentioned that you like playing cricket.', additional_kwargs={}, response_metadata={'prompt_feedback': {'block_reason': 0, 'safety_ratings': []}, 'finish_reason': 'STOP', 'safety_ratings': []}, id='run-3e76e5ff-71b9-4670-9706-714608144a68-0', usage_metadata={'input_tokens': 111, 'output_tokens': 15, 'total_tokens': 126, 'input_token_details': {'cache_read': 0}}), HumanMessage(content=\"what's my last conversation\", additional_kwargs={}, response_metadata={}, id='e70fa0fa-407a-4e02-81c8-34458762bd38'), AIMessage(content='Our last conversation was short. You asked me what you like playing, and I responded that you mentioned liking cricket in our previous conversation.', additional_kwargs={}, response_metadata={'prompt_feedback': {'block_reason': 0, 'safety_ratings': []}, 'finish_reason': 'STOP', 'safety_ratings': []}, id='run-893ae456-6d24-4556-b793-34c823fcae35-0', usage_metadata={'input_tokens': 133, 'output_tokens': 28, 'total_tokens': 161, 'input_token_details': {'cache_read': 0}})], 'summary': \"The conversation began with the user asking for their name, to which I responded that I don't have access to personal information.  The user then stated they enjoy playing cricket.  Finally, the user asked for a summary of our conversation, which is this summary.\"}, next=(), config={'configurable': {'thread_id': '1', 'checkpoint_ns': '', 'checkpoint_id': '1efd01aa-0c82-6946-8011-924a8213ce1a'}}, metadata={'step': 17, 'source': 'loop', 'writes': {'conversation': {'messages': AIMessage(content='Our last conversation was short. You asked me what you like playing, and I responded that you mentioned liking cricket in our previous conversation.', additional_kwargs={}, response_metadata={'finish_reason': 'STOP', 'safety_ratings': [], 'prompt_feedback': {'block_reason': 0, 'safety_ratings': []}}, id='run-893ae456-6d24-4556-b793-34c823fcae35-0', usage_metadata={'input_tokens': 133, 'output_tokens': 28, 'total_tokens': 161, 'input_token_details': {'cache_read': 0}})}}, 'parents': {}, 'thread_id': '1'}, created_at='2025-01-11T12:50:25.697376+00:00', parent_config={'configurable': {'thread_id': '1', 'checkpoint_ns': '', 'checkpoint_id': '1efd01aa-0907-6ceb-8010-d260924471bf'}}, tasks=())"
            ]
          },
          "metadata": {},
          "execution_count": 29
        }
      ]
    },
    {
      "cell_type": "code",
      "source": [
        "config = {\"configurable\" : {\"thread_id\" : \"1\"}}\n",
        "\n",
        "\n",
        "input_message = HumanMessage(content=\"can you describe about vector \")\n",
        "output = graph.invoke({\"messages\":input_message}, config)\n",
        "for m in output[\"messages\"][-1:]:\n",
        "  m.pretty_print()"
      ],
      "metadata": {
        "colab": {
          "base_uri": "https://localhost:8080/"
        },
        "id": "BcjfwPI4UAFg",
        "outputId": "0c14d5e1-fa11-4509-ba5e-9174385c0334"
      },
      "execution_count": 30,
      "outputs": [
        {
          "output_type": "stream",
          "name": "stdout",
          "text": [
            "Using summary: The conversation began with the user asking for their name, to which I responded that I don't have access to personal information.  The user then stated they enjoy playing cricket.  Finally, the user asked for a summary of our conversation, which is this summary.\n",
            "Message count: 8\n",
            "Messages before summarizing: 8\n",
            "Existing summary: The conversation began with the user asking for their name, to which I responded that I don't have access to personal information.  The user then stated they enjoy playing cricket.  Finally, the user asked for a summary of our conversation, which is this summary.\n",
            "New summary: The conversation began with the user asking for their name, to which I responded that I don't have access to personal information.  The user then stated they enjoy playing cricket.  The user then again requested a summary of the conversation.  Following this, the user asked for a description of vectors. I provided a detailed explanation of vectors, including their representation, magnitude, direction, various operations (addition, subtraction, scalar multiplication, dot product, and cross product), and their applications in various fields like physics, engineering, computer science, and mathematics.  Finally, the user requested this extended summary of our conversation.\n",
            "Messages after truncation: 6\n",
            "==================================\u001b[1m Ai Message \u001b[0m==================================\n",
            "\n",
            "A vector is a quantity that has both magnitude (size) and direction.  This is in contrast to a scalar, which only has magnitude.\n",
            "\n",
            "Here's a breakdown of key aspects of vectors:\n",
            "\n",
            "* **Representation:** Vectors are often represented visually as arrows. The length of the arrow represents the magnitude, and the direction of the arrow represents the direction of the vector.  They can also be represented mathematically using coordinates (e.g., in two dimensions as (x, y) or in three dimensions as (x, y, z)).\n",
            "\n",
            "* **Magnitude:**  This is the \"size\" or \"length\" of the vector.  For example, if a vector represents displacement, the magnitude would be the distance.  Mathematically, the magnitude is calculated using the Pythagorean theorem (or its higher-dimensional equivalent).\n",
            "\n",
            "* **Direction:** This specifies the orientation of the vector. It's often represented by an angle relative to a reference axis (like the x-axis).\n",
            "\n",
            "* **Operations:**  Vectors can undergo various mathematical operations, including:\n",
            "\n",
            "    * **Addition:**  Vectors are added head-to-tail.  The resultant vector is the vector from the tail of the first vector to the head of the second.\n",
            "    * **Subtraction:**  Subtracting vector B from vector A is equivalent to adding vector A and the negative of vector B (the negative of a vector has the same magnitude but opposite direction).\n",
            "    * **Scalar Multiplication:** Multiplying a vector by a scalar (a number) changes its magnitude but not its direction (if the scalar is positive).  Multiplying by a negative scalar reverses the direction.\n",
            "    * **Dot Product (Scalar Product):** This operation produces a scalar value and is related to the cosine of the angle between the two vectors.  It's useful for determining the projection of one vector onto another.\n",
            "    * **Cross Product (Vector Product):** This operation produces a new vector that is perpendicular to both of the original vectors.  It's used in physics to calculate things like torque.\n",
            "\n",
            "\n",
            "Vectors are used extensively in many fields, including:\n",
            "\n",
            "* **Physics:** To represent forces, velocities, accelerations, displacements, and more.\n",
            "* **Engineering:**  In structural analysis, mechanics, and computer graphics.\n",
            "* **Computer Science:** In computer graphics (3D modeling, animation), game development, and machine learning.\n",
            "* **Mathematics:**  Linear algebra is heavily based on vector operations.\n",
            "\n",
            "\n",
            "Understanding vectors is fundamental to many scientific and technical disciplines.  The specific details of vector operations and applications can become quite complex, but this provides a general overview.\n"
          ]
        }
      ]
    },
    {
      "cell_type": "code",
      "source": [
        "graph_state = graph.get_state(config)\n",
        "graph_state"
      ],
      "metadata": {
        "colab": {
          "base_uri": "https://localhost:8080/"
        },
        "id": "cFcWN0fYaaaZ",
        "outputId": "b1b5d554-35d7-4ba9-cc6f-206fdafd213e"
      },
      "execution_count": 31,
      "outputs": [
        {
          "output_type": "execute_result",
          "data": {
            "text/plain": [
              "StateSnapshot(values={'messages': [HumanMessage(content='can you describe about vector ', additional_kwargs={}, response_metadata={}, id='a4c4a113-2965-45e2-b0d0-b0c86f627e7e'), AIMessage(content='A vector is a quantity that has both magnitude (size) and direction.  This is in contrast to a scalar, which only has magnitude.\\n\\nHere\\'s a breakdown of key aspects of vectors:\\n\\n* **Representation:** Vectors are often represented visually as arrows. The length of the arrow represents the magnitude, and the direction of the arrow represents the direction of the vector.  They can also be represented mathematically using coordinates (e.g., in two dimensions as (x, y) or in three dimensions as (x, y, z)).\\n\\n* **Magnitude:**  This is the \"size\" or \"length\" of the vector.  For example, if a vector represents displacement, the magnitude would be the distance.  Mathematically, the magnitude is calculated using the Pythagorean theorem (or its higher-dimensional equivalent).\\n\\n* **Direction:** This specifies the orientation of the vector. It\\'s often represented by an angle relative to a reference axis (like the x-axis).\\n\\n* **Operations:**  Vectors can undergo various mathematical operations, including:\\n\\n    * **Addition:**  Vectors are added head-to-tail.  The resultant vector is the vector from the tail of the first vector to the head of the second.\\n    * **Subtraction:**  Subtracting vector B from vector A is equivalent to adding vector A and the negative of vector B (the negative of a vector has the same magnitude but opposite direction).\\n    * **Scalar Multiplication:** Multiplying a vector by a scalar (a number) changes its magnitude but not its direction (if the scalar is positive).  Multiplying by a negative scalar reverses the direction.\\n    * **Dot Product (Scalar Product):** This operation produces a scalar value and is related to the cosine of the angle between the two vectors.  It\\'s useful for determining the projection of one vector onto another.\\n    * **Cross Product (Vector Product):** This operation produces a new vector that is perpendicular to both of the original vectors.  It\\'s used in physics to calculate things like torque.\\n\\n\\nVectors are used extensively in many fields, including:\\n\\n* **Physics:** To represent forces, velocities, accelerations, displacements, and more.\\n* **Engineering:**  In structural analysis, mechanics, and computer graphics.\\n* **Computer Science:** In computer graphics (3D modeling, animation), game development, and machine learning.\\n* **Mathematics:**  Linear algebra is heavily based on vector operations.\\n\\n\\nUnderstanding vectors is fundamental to many scientific and technical disciplines.  The specific details of vector operations and applications can become quite complex, but this provides a general overview.', additional_kwargs={}, response_metadata={'prompt_feedback': {'block_reason': 0, 'safety_ratings': []}, 'finish_reason': 'STOP', 'safety_ratings': []}, id='run-e93511da-464e-4589-8d91-03d657b78798-0', usage_metadata={'input_tokens': 168, 'output_tokens': 543, 'total_tokens': 711, 'input_token_details': {'cache_read': 0}})], 'summary': \"The conversation began with the user asking for their name, to which I responded that I don't have access to personal information.  The user then stated they enjoy playing cricket.  The user then again requested a summary of the conversation.  Following this, the user asked for a description of vectors. I provided a detailed explanation of vectors, including their representation, magnitude, direction, various operations (addition, subtraction, scalar multiplication, dot product, and cross product), and their applications in various fields like physics, engineering, computer science, and mathematics.  Finally, the user requested this extended summary of our conversation.\"}, next=(), config={'configurable': {'thread_id': '1', 'checkpoint_ns': '', 'checkpoint_id': '1efd01ab-5828-6c73-8015-e4aa59a98a4e'}}, metadata={'step': 21, 'source': 'loop', 'writes': {'summarize_conversation': {'summary': \"The conversation began with the user asking for their name, to which I responded that I don't have access to personal information.  The user then stated they enjoy playing cricket.  The user then again requested a summary of the conversation.  Following this, the user asked for a description of vectors. I provided a detailed explanation of vectors, including their representation, magnitude, direction, various operations (addition, subtraction, scalar multiplication, dot product, and cross product), and their applications in various fields like physics, engineering, computer science, and mathematics.  Finally, the user requested this extended summary of our conversation.\", 'messages': [RemoveMessage(content='', additional_kwargs={}, response_metadata={}, id='608402df-0f66-448e-a634-dcffba46c18f'), RemoveMessage(content='', additional_kwargs={}, response_metadata={}, id='run-34c4dbfc-d785-4dee-86a4-baf5f79ab9b4-0'), RemoveMessage(content='', additional_kwargs={}, response_metadata={}, id='45859edb-a832-422b-b03d-10618ecd3997'), RemoveMessage(content='', additional_kwargs={}, response_metadata={}, id='run-3e76e5ff-71b9-4670-9706-714608144a68-0'), RemoveMessage(content='', additional_kwargs={}, response_metadata={}, id='e70fa0fa-407a-4e02-81c8-34458762bd38'), RemoveMessage(content='', additional_kwargs={}, response_metadata={}, id='run-893ae456-6d24-4556-b793-34c823fcae35-0')]}}, 'parents': {}, 'thread_id': '1'}, created_at='2025-01-11T12:51:00.473328+00:00', parent_config={'configurable': {'thread_id': '1', 'checkpoint_ns': '', 'checkpoint_id': '1efd01ab-4f1a-60d1-8014-653bc297c412'}}, tasks=())"
            ]
          },
          "metadata": {},
          "execution_count": 31
        }
      ]
    },
    {
      "cell_type": "code",
      "source": [],
      "metadata": {
        "id": "p_YxrW4Ia2cf"
      },
      "execution_count": null,
      "outputs": []
    }
  ]
}